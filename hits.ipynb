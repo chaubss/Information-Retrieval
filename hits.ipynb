{
 "cells": [
  {
   "cell_type": "code",
   "execution_count": 205,
   "metadata": {
    "pycharm": {
     "name": "#%%\n"
    }
   },
   "outputs": [],
   "source": [
    "import networkx as nx\n",
    "import re\n",
    "\n",
    "import numpy as np\n",
    "from tabulate import tabulate\n",
    "from nltk.corpus import stopwords\n",
    "# nltk.download('stopwords')"
   ]
  },
  {
   "cell_type": "code",
   "execution_count": 206,
   "metadata": {
    "pycharm": {
     "name": "#%%\n"
    }
   },
   "outputs": [],
   "source": [
    "web_graph = nx.read_gpickle('web_graph.gpickle')"
   ]
  },
  {
   "cell_type": "code",
   "execution_count": 207,
   "metadata": {
    "pycharm": {
     "name": "#%%\n"
    }
   },
   "outputs": [],
   "source": [
    "# web_graph"
   ]
  },
  {
   "cell_type": "code",
   "execution_count": 208,
   "metadata": {
    "pycharm": {
     "name": "#%%\n"
    }
   },
   "outputs": [],
   "source": [
    "# web_graph.nodes[50]"
   ]
  },
  {
   "cell_type": "code",
   "execution_count": 209,
   "metadata": {
    "pycharm": {
     "name": "#%%\n"
    }
   },
   "outputs": [],
   "source": [
    "# pos = {i: web_graph.nodes[i]['pos'] for i in range(len(web_graph.nodes))}\n",
    "# nx.draw(web_graph, pos)"
   ]
  },
  {
   "cell_type": "code",
   "execution_count": 210,
   "metadata": {
    "pycharm": {
     "name": "#%%\n"
    }
   },
   "outputs": [],
   "source": [
    "# # Create a postings list\n",
    "# postings_list = {}\n",
    "# stop_words = set(stopwords.words('english'))\n",
    "# # print(stop_words)\n",
    "# for i in range(len(web_graph.nodes)):\n",
    "#     node = web_graph.nodes[i]\n",
    "#     content = node['page_content']\n",
    "#     print(content)\n",
    "#     content = re.sub(r'[^\\w\\s]', '', content)\n",
    "#     content = re.sub(r'\\s+', ' ', content)\n",
    "#     content = content.lower()\n",
    "#     # print(content)\n",
    "#     content = [c for c in content.split(' ') if c != '' and len(c) > 2]\n",
    "#     # print(content)\n",
    "#     for word in content:\n",
    "#         if word not in stop_words:\n",
    "#             if word not in postings_list:\n",
    "#                 postings_list[word] = [i]\n",
    "#             elif postings_list[word][-1] != i:\n",
    "#                 postings_list[word].append(i)"
   ]
  },
  {
   "cell_type": "code",
   "execution_count": 211,
   "metadata": {
    "pycharm": {
     "name": "#%%\n"
    }
   },
   "outputs": [],
   "source": [
    "def generate_sets(query_word, postings_list):\n",
    "    \"\"\"\n",
    "    Generates the root and base sets for the query word\n",
    "    \"\"\"\n",
    "    if query_word not in postings_list:\n",
    "        raise Exception('Word not in the postings list')\n",
    "    root_set = postings_list[query_word]\n",
    "    base_set = []\n",
    "    for node in root_set:\n",
    "        base_set.append(node)\n",
    "    # print(root_set)\n",
    "    root_set = set(root_set)\n",
    "    # print(root_set)\n",
    "    # print(base_set)\n",
    "    base_set = set(base_set)\n",
    "    # print(base_set)\n",
    "    # print(web_graph.edges)\n",
    "    for edge in web_graph.edges:\n",
    "        if edge[0] in root_set:\n",
    "            base_set.add(edge[1])\n",
    "        if edge[1] in root_set:\n",
    "            base_set.add(edge[0])\n",
    "    # print(base_set)\n",
    "    return root_set,base_set"
   ]
  },
  {
   "cell_type": "code",
   "execution_count": 212,
   "outputs": [],
   "source": [
    "def generate_adj_matrix(base_set):\n",
    "    adj = np.zeros((len(base_set), len(base_set)))\n",
    "    # print(adj)\n",
    "    bslist = list(base_set)\n",
    "    # print(bslist)\n",
    "    for edge in web_graph.edges:\n",
    "        if edge[0] in base_set and edge[1] in base_set:\n",
    "            # print(edge)\n",
    "            adj[bslist.index(edge[0])][bslist.index(edge[1])] = 1\n",
    "    # print(adj)\n",
    "    return adj\n"
   ],
   "metadata": {
    "collapsed": false,
    "pycharm": {
     "name": "#%%\n"
    }
   }
  },
  {
   "cell_type": "code",
   "execution_count": 213,
   "outputs": [],
   "source": [
    "def generate_hub_authority_scores(adj_matrix):\n",
    "    aTa = np.dot(adj_matrix.T, adj_matrix)\n",
    "    aaT = np.dot(adj_matrix, adj_matrix.T)\n",
    "    print(len(adj_matrix))\n",
    "    v, V = np.linalg.eig(aaT.T)\n",
    "    left_vec = V[:, 0].T\n",
    "    left_vec = V[:, v.argmax()]\n",
    "    left_vec = left_vec / sum(left_vec)\n",
    "    h_vec = np.reshape(left_vec, (1, -1))\n",
    "    v, V = np.linalg.eig(aTa.T)\n",
    "    left_vec = V[:, 0].T\n",
    "    left_vec = V[:, v.argmax()]\n",
    "    left_vec = left_vec / sum(left_vec)\n",
    "    a_vec = np.reshape(left_vec, (1, -1))\n",
    "    # Return the principal left eigenvector\n",
    "    return a_vec, h_vec"
   ],
   "metadata": {
    "collapsed": false,
    "pycharm": {
     "name": "#%%\n"
    }
   }
  },
  {
   "cell_type": "code",
   "execution_count": 214,
   "outputs": [],
   "source": [
    "def generate_hub_authority_scores_power_iteration(adj_matrix):\n",
    "    aTa = np.dot(adj_matrix.T, adj_matrix)\n",
    "    aaT = np.dot(adj_matrix, adj_matrix.T)\n",
    "    a_vec = np.full((1, len(adj_matrix)), 1/len(adj_matrix))\n",
    "    h_vec = np.full((1, len(adj_matrix)), 1/len(adj_matrix))\n",
    "    for i in range(100):\n",
    "        a_vec = np.dot(a_vec, aTa)\n",
    "        a_vec = a_vec / np.max(a_vec)\n",
    "        h_vec = np.dot(h_vec, aaT)\n",
    "        h_vec = h_vec / np.max(h_vec)\n",
    "    a_vec = a_vec/sum(a_vec[0])\n",
    "    h_vec = h_vec/sum(h_vec[0])\n",
    "    return a_vec, h_vec"
   ],
   "metadata": {
    "collapsed": false,
    "pycharm": {
     "name": "#%%\n"
    }
   }
  },
  {
   "cell_type": "code",
   "execution_count": 215,
   "outputs": [],
   "source": [
    "def main():\n",
    "    web_graph = nx.read_gpickle('web_graph.gpickle')\n",
    "    # Create a postings list\n",
    "    postings_list = {}\n",
    "    stop_words = set(stopwords.words('english'))\n",
    "    # print(stop_words)\n",
    "    for i in range(len(web_graph.nodes)):\n",
    "        node = web_graph.nodes[i]\n",
    "        content = node['page_content']\n",
    "        # print(content)\n",
    "        content = re.sub(r'[^\\w\\s]', '', content)\n",
    "        content = re.sub(r'\\s+', ' ', content)\n",
    "        content = content.lower()\n",
    "        # print(content)\n",
    "        content = [c for c in content.split(' ') if c != '' and len(c) > 2]\n",
    "        # print(content)\n",
    "        for word in content:\n",
    "            if word not in stop_words:\n",
    "                if word not in postings_list:\n",
    "                    postings_list[word] = [i]\n",
    "                elif postings_list[word][-1] != i:\n",
    "                    postings_list[word].append(i)\n",
    "\n",
    "    query = input(\"Enter query word: \")\n",
    "    query = query.split()\n",
    "    query = query[0]\n",
    "    rs,bs = generate_sets(query, postings_list)\n",
    "    adjacency_list = generate_adj_matrix(bs)\n",
    "\n",
    "    authority, hub = generate_hub_authority_scores_power_iteration(adjacency_list)\n",
    "    base_set_list = list(bs)\n",
    "    scores = []\n",
    "    auth_sum = 0\n",
    "    hub_sum = 0\n",
    "    for i in range(len(authority[0])):\n",
    "        if authority[0][i] <= 0:\n",
    "            authority[0][i] = authority[0][i]*-1\n",
    "        if hub[0][i] < 0:\n",
    "            hub[0][i] = hub[0][i]*-1\n",
    "        scores.append([base_set_list[i],authority[0][i],hub[0][i]])\n",
    "        auth_sum = auth_sum+authority[0][i]\n",
    "        hub_sum = hub_sum+hub[0][i]\n",
    "\n",
    "    print(tabulate(scores, headers = [\"Node\", \"Authority Score\", \"Hub Score\"]))\n",
    "    print(\"Authority score sum = \"+str(auth_sum))\n",
    "    print(\"Hub score sum = \"+str(hub_sum))"
   ],
   "metadata": {
    "collapsed": false,
    "pycharm": {
     "name": "#%%\n"
    }
   }
  },
  {
   "cell_type": "code",
   "execution_count": 216,
   "outputs": [
    {
     "name": "stdout",
     "output_type": "stream",
     "text": [
      "  Node    Authority Score     Hub Score\n",
      "------  -----------------  ------------\n",
      "     0        0.00538727   0.00304554\n",
      "     1        4.52991e-05  0.000124198\n",
      "     2        2.01446e-76  4.52015e-29\n",
      "     5        2.87112e-82  1.41108e-76\n",
      "     6        0.0127112    0.0014765\n",
      "     8        2.81882e-28  2.15991e-28\n",
      "     9        0.0665967    0.00737559\n",
      "    10       -0            0.00439812\n",
      "    11        0.0215921    0.0180423\n",
      "    12        0.114773     0.0705635\n",
      "    13        0.0192687    0.029721\n",
      "    14        0.0041356    0.00115926\n",
      "    15        1.06546e-28  5.92666e-28\n",
      "    16        2.03223e-05  1.02745e-05\n",
      "    17        2.83763e-28  2.15991e-28\n",
      "    18        0.00791009   0.0240182\n",
      "    21       -0            0.000870596\n",
      "    22        0.00174523   0.0111628\n",
      "    23        0.0837232    0.0546154\n",
      "    24        3.16924e-05  8.46483e-06\n",
      "    25        2.01446e-76  1.41108e-76\n",
      "    27        4.39847e-05  7.60189e-05\n",
      "    28        6.13698e-05  8.97574e-05\n",
      "    30        3.37151e-05  0.000101131\n",
      "    31        2.2467e-28   3.66501e-28\n",
      "    32        8.26384e-05  0.000177802\n",
      "    34        0.0229959    0.00100167\n",
      "    37        0.0703973    0.0182406\n",
      "    40        0.00203627   0.00943525\n",
      "    41        3.9087e-124  0\n",
      "    46        3.9087e-124  0.00466791\n",
      "    47        2.94366e-05  3.97807e-05\n",
      "    48        0.0114382    0.0624609\n",
      "    49       -0            3.01672e-82\n",
      "    50        0.00280308   7.70701e-05\n",
      "    51       -0            0.00483779\n",
      "    52        2.87112e-82  4.10692e-124\n",
      "    53        1.77445e-82  1.86443e-82\n",
      "    54        7.58064e-05  0.000132631\n",
      "    55        0.00429084   0.00142485\n",
      "    56        0.0276142    0.037365\n",
      "    57        4.11182e-05  9.78181e-05\n",
      "    58        0.0130505    0.110043\n",
      "    59        0.00287205   4.10692e-124\n",
      "    60        6.28085e-05  0.00015071\n",
      "    61        0.0121303    0.00198598\n",
      "    62        0.0338622    0.00975354\n",
      "    63        9.8821e-05   4.71713e-05\n",
      "    64        7.41502e-05  2.88476e-05\n",
      "    65        0.0379995    0.0133396\n",
      "    66        5.82008e-28  1.66757e-28\n",
      "    67        1.21799e-28  2.82215e-76\n",
      "    68        0.00354403   0.0430872\n",
      "    69        2.45511e-06  4.74644e-05\n",
      "    70        0.033845     0.00198598\n",
      "    71        0.0246761    0.00982869\n",
      "    72       -0            2.15991e-28\n",
      "    73        0.000306967  3.00759e-05\n",
      "    74        0.000114899  8.50475e-05\n",
      "    76        0.0003575    8.84434e-05\n",
      "    77        2.2467e-28   3.60142e-28\n",
      "    78        0.00176241   0.00852164\n",
      "    80        0.00234859   0.0635551\n",
      "    83        1.77445e-82  1.86443e-82\n",
      "    84       -0            3.01672e-82\n",
      "    86        0.035861     0.0193026\n",
      "    87        0.0172558    0.0181473\n",
      "    88        3.84677e-05  2.13668e-05\n",
      "    90        0.0726514    0.0790685\n",
      "    94        0.0634606    0.129071\n",
      "    95        0.00234859   0\n",
      "    96        0.0039896    0.00500284\n",
      "    97        0.105942     0.0554944\n",
      "    98        0.0350775    0.0488015\n",
      "    99        0.0163821    0.0156945\n",
      "Authority score sum = 1.0\n",
      "Hub score sum = 1.0\n"
     ]
    }
   ],
   "source": [
    "main()"
   ],
   "metadata": {
    "collapsed": false,
    "pycharm": {
     "name": "#%%\n"
    }
   }
  },
  {
   "cell_type": "code",
   "execution_count": 216,
   "outputs": [],
   "source": [],
   "metadata": {
    "collapsed": false,
    "pycharm": {
     "name": "#%%\n"
    }
   }
  },
  {
   "cell_type": "code",
   "execution_count": 216,
   "outputs": [],
   "source": [],
   "metadata": {
    "collapsed": false,
    "pycharm": {
     "name": "#%%\n"
    }
   }
  }
 ],
 "metadata": {
  "interpreter": {
   "hash": "69198bfb6d930cb083243c9ed831565bcd8bb8fc69eab5a2d003dfc0bdcfc55c"
  },
  "kernelspec": {
   "display_name": "Python 3.9.10 ('IR-QRBol3kX')",
   "language": "python",
   "name": "python3"
  },
  "language_info": {
   "codemirror_mode": {
    "name": "ipython",
    "version": 3
   },
   "file_extension": ".py",
   "mimetype": "text/x-python",
   "name": "python",
   "nbconvert_exporter": "python",
   "pygments_lexer": "ipython3",
   "version": "3.9.10"
  },
  "orig_nbformat": 4
 },
 "nbformat": 4,
 "nbformat_minor": 2
}